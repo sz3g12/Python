{
 "cells": [
  {
   "cell_type": "markdown",
   "id": "37a27067",
   "metadata": {},
   "source": [
    "<h2>Codility Exercises - Lession 1 & 2</h2>"
   ]
  },
  {
   "cell_type": "markdown",
   "id": "b8928e2c",
   "metadata": {},
   "source": [
    "<h3>Demo task - to find the smallest positive integer that is not in the list</h3>"
   ]
  },
  {
   "cell_type": "markdown",
   "id": "641cfce9",
   "metadata": {},
   "source": [
    "<p><b>My solution with reference to online codes</b> - pass with 100%</p>\n",
    "<p>Useful tricks:</p>\n",
    "<ol>\n",
    "<li>[x for x in A if x > 0]</li>\n",
    "<li>specify the special cases first with if condition, then the rest</li>\n",
    "</ol>"
   ]
  },
  {
   "cell_type": "code",
   "execution_count": 1250,
   "id": "6b73faa1",
   "metadata": {},
   "outputs": [],
   "source": [
    "def solution(A):\n",
    "    B = [x for x in A if x > 0]\n",
    "    B = sorted(B)\n",
    "    if 1 not in B:\n",
    "        return 1\n",
    "    for i in range(0, len(B) - 1):\n",
    "        if B[i+1] - B[i] > 1:\n",
    "            return B[i] + 1\n",
    "    return max(B) + 1"
   ]
  },
  {
   "cell_type": "markdown",
   "id": "c874ac64",
   "metadata": {},
   "source": [
    "<h3>Lesson 1 Iterations - BinaryGap</h3>"
   ]
  },
  {
   "cell_type": "markdown",
   "id": "15f197f8",
   "metadata": {},
   "source": [
    "<p><b>My solution</b> - pass with 46% -> although I managed to pass test cases even for largest figure in range, after submitted, the performance shows the extreme values do not get passed due to runtime errors </p>\n",
    "<ol>\n",
    "<li>get the list of positions of the '1's</li>\n",
    "<li>subtract the positions of '1's to get the no. of '0's in between</li>\n",
    "</ol>"
   ]
  },
  {
   "cell_type": "code",
   "execution_count": 1249,
   "id": "8cfa65f5",
   "metadata": {},
   "outputs": [],
   "source": [
    "def solution(N):\n",
    "    def get_pos(N):\n",
    "        list = []\n",
    "        # write your code in Python 3.6\n",
    "        for i in range(len(format(N, 'b'))):\n",
    "                if format(N, 'b')[i] == '1':\n",
    "                    list.append(i)\n",
    "        return list\n",
    "    def gap(list):\n",
    "        diff_list = []\n",
    "        if len(list)<2:\n",
    "             return 0\n",
    "        if len(list)>2:\n",
    "            for i in range(1,len(list)):\n",
    "                x = list[i] - list[i-1]\n",
    "                diff_list.append(x)\n",
    "            return max(diff_list)-1\n",
    "    return gap(get_pos(N))\n",
    "\n",
    "# I know that the function is not efficient, but it helps me to understand the differences between return and print. \n",
    "# call function vs. print function\n",
    "# indentation\n",
    "# inside vs. outside function\n",
    "# nature of append - if you save y = x.append(5) print(y)"
   ]
  },
  {
   "cell_type": "markdown",
   "id": "ed5bc671",
   "metadata": {},
   "source": [
    "<b>Online solution</b> - very neat. Didn't use iterations\n",
    "Both leading and trailing zeros are redundant with binary gap finding as they are not bounded by two 1's (left and right respectively)\n",
    "<ol>\n",
    "<li>striping zeros left and right</li>\n",
    "<li>splitting by 1's yields all sequences of 0's</li>\n",
    "<li>get the maximum length of 0's sub-strings</li>\n",
    "</ol>"
   ]
  },
  {
   "cell_type": "code",
   "execution_count": 172,
   "id": "6a1d5097",
   "metadata": {},
   "outputs": [],
   "source": [
    "def solution(N):\n",
    "    return len(max(format(N, 'b').strip('0').split('1')))"
   ]
  },
  {
   "cell_type": "markdown",
   "id": "7cecd95f",
   "metadata": {},
   "source": [
    "<h3>Lesson 2 Arrays - CyclicRotation</h3>"
   ]
  },
  {
   "cell_type": "markdown",
   "id": "1e17709a",
   "metadata": {},
   "source": [
    "<b>My solution</b> - pass with 100%\n",
    "<p>The rational is to re-arrange the positions based on the reminder of len(A) + K. </p>"
   ]
  },
  {
   "cell_type": "code",
   "execution_count": 276,
   "id": "1513bd44",
   "metadata": {},
   "outputs": [],
   "source": [
    "def solution(A, K):\n",
    "    # write your code in Python 3.6\n",
    "    pos = []\n",
    "    l = [None] * len(A)\n",
    "    for i in range(0,len(A)):\n",
    "        pos.append((i+K)%len(A))\n",
    "    for i in range(0, len(A)):\n",
    "        l[pos[i]] = A[i]  \n",
    "    return l\n",
    "    pass"
   ]
  },
  {
   "cell_type": "markdown",
   "id": "b6171592",
   "metadata": {},
   "source": [
    "<b>Online solution</b> - It uses the slicing array with [A:] and [:A] - this is more efficient then my shifting by positions. \n",
    "<p> remember - [-K:] means starts from kth last to the end and [:-K] means from the start to (k-1)th last</p> "
   ]
  },
  {
   "cell_type": "code",
   "execution_count": null,
   "id": "55c08442",
   "metadata": {},
   "outputs": [],
   "source": [
    "def CyclicRotation(A, K):\n",
    "    # write your code in Python 3.6\n",
    "    if len(A) == 0:\n",
    "        return A\n",
    "    K = K % len(A)\n",
    "    return (A[-K:] + A[:-K])"
   ]
  },
  {
   "cell_type": "markdown",
   "id": "20a31098",
   "metadata": {},
   "source": [
    "<h3>Lesson 2 Arrays - OddOccurrencesInArray</h3>"
   ]
  },
  {
   "cell_type": "markdown",
   "id": "09e0a055",
   "metadata": {},
   "source": [
    "<b>My solution</b> - pass with 100%\n",
    "<ol>\n",
    "<li>firstly sort the list</li>\n",
    "<li>append the last element to the list to make it even number</li>\n",
    "<li>identify the occasion where the pairs do not match -> odd one</li>\n",
    "<li>if not none-matched pairs found - it means that either the odd one is last element or there is only one element. To handle it with if condition</li>\n",
    "</ol>"
   ]
  },
  {
   "cell_type": "code",
   "execution_count": null,
   "id": "37405e58",
   "metadata": {},
   "outputs": [],
   "source": [
    "# Lesson 2 Arrays - OddOccurrencesInArray\n",
    "# my solution - pass with 100%\n",
    "def solution(A):\n",
    "    ls = sorted(A)\n",
    "    ls.append(ls[-1])\n",
    "    for i in range(0, (len(ls)//2)):\n",
    "        if i+1 == len(ls)//2:\n",
    "            return ls[-1]\n",
    "        if ls[2*i] != ls[2*i+1]:\n",
    "            return ls[2*i] "
   ]
  },
  {
   "cell_type": "markdown",
   "id": "a6731842",
   "metadata": {},
   "source": [
    "<b>My solution V2</b> - to make the i indexing less complicated with i in range(0 , len (ls) , 2)"
   ]
  },
  {
   "cell_type": "code",
   "execution_count": 1252,
   "id": "67047f1b",
   "metadata": {},
   "outputs": [],
   "source": [
    "def solution(A):\n",
    "    ls = sorted(A)\n",
    "    ls.append(ls[-1])\n",
    "    for i in range(0 , len (ls) , 2):\n",
    "        if i+2 == len(ls):\n",
    "            return ls[-1]\n",
    "        if ls[i] != ls[i+1]:\n",
    "            return ls[i] "
   ]
  },
  {
   "cell_type": "markdown",
   "id": "41d2c266",
   "metadata": {},
   "source": [
    "<b>Online solution</b> \n",
    "<p>The array will be iterated by the unit of two elements. With for i in range(0 , len (A) , 2), it already pairs up the 2n and 2n+1 items</p>\n",
    "<ol>\n",
    "<li>firstly specify the special case where there is only 1 element</li>\n",
    "<li>sort the list</li>\n",
    "<li>check the paired element and if it is not paired, then the element’s value is the element the method returns.</li>\n",
    "</ol>\n"
   ]
  },
  {
   "cell_type": "code",
   "execution_count": 1293,
   "id": "efd8916c",
   "metadata": {},
   "outputs": [],
   "source": [
    "def solution(A):     \n",
    "    if len(A) == 1:\n",
    "         return A[0]\n",
    "    A = sorted(A)\n",
    "    for i in range(0 , len (A) , 2):\n",
    "         if i+1 == len(A):\n",
    "             return A[i]\n",
    "         if A[i] != A[i+1]:\n",
    "             return A[i]"
   ]
  },
  {
   "cell_type": "markdown",
   "id": "22165ac7",
   "metadata": {},
   "source": [
    "<p><b>Pay attention to the order of the if conditios. </b>If we put the second one in front, then the i+1 could be out of range. When we put as the original order, it will populate correctly.</p> \n",
    "<p> this is because when i+1 == len(A) is within range, A[i+1] is already out of range due to 0 indexing. Need to be very clear on the indexing for this question </p>\n",
    "<p>below is the example with errors for the cases when the odd one is the largest</p> "
   ]
  },
  {
   "cell_type": "code",
   "execution_count": 1305,
   "id": "44073c41",
   "metadata": {},
   "outputs": [],
   "source": [
    "def solution(A):     \n",
    "    if len(A) == 1:\n",
    "         return A[0]\n",
    "    A = sorted(A)\n",
    "    for i in range(0 , len (A) , 2):\n",
    "        if A[i] != A[i+1]:\n",
    "             return A[i]\n",
    "        if i+1 == len(A):\n",
    "             return A[i]"
   ]
  },
  {
   "cell_type": "code",
   "execution_count": 1307,
   "id": "a3369e87",
   "metadata": {},
   "outputs": [
    {
     "ename": "IndexError",
     "evalue": "list index out of range",
     "output_type": "error",
     "traceback": [
      "\u001b[0;31m---------------------------------------------------------------------------\u001b[0m",
      "\u001b[0;31mIndexError\u001b[0m                                Traceback (most recent call last)",
      "\u001b[0;32m<ipython-input-1307-601ee040aec3>\u001b[0m in \u001b[0;36m<module>\u001b[0;34m\u001b[0m\n\u001b[0;32m----> 1\u001b[0;31m \u001b[0msolution\u001b[0m\u001b[0;34m(\u001b[0m\u001b[0;34m[\u001b[0m\u001b[0;36m1\u001b[0m\u001b[0;34m,\u001b[0m \u001b[0;36m1\u001b[0m\u001b[0;34m,\u001b[0m \u001b[0;36m2\u001b[0m\u001b[0;34m,\u001b[0m \u001b[0;36m2\u001b[0m\u001b[0;34m,\u001b[0m \u001b[0;36m3\u001b[0m\u001b[0;34m]\u001b[0m\u001b[0;34m)\u001b[0m\u001b[0;34m\u001b[0m\u001b[0;34m\u001b[0m\u001b[0m\n\u001b[0m",
      "\u001b[0;32m<ipython-input-1305-068d5a23c7fe>\u001b[0m in \u001b[0;36msolution\u001b[0;34m(A)\u001b[0m\n\u001b[1;32m      4\u001b[0m     \u001b[0mA\u001b[0m \u001b[0;34m=\u001b[0m \u001b[0msorted\u001b[0m\u001b[0;34m(\u001b[0m\u001b[0mA\u001b[0m\u001b[0;34m)\u001b[0m\u001b[0;34m\u001b[0m\u001b[0;34m\u001b[0m\u001b[0m\n\u001b[1;32m      5\u001b[0m     \u001b[0;32mfor\u001b[0m \u001b[0mi\u001b[0m \u001b[0;32min\u001b[0m \u001b[0mrange\u001b[0m\u001b[0;34m(\u001b[0m\u001b[0;36m0\u001b[0m \u001b[0;34m,\u001b[0m \u001b[0mlen\u001b[0m \u001b[0;34m(\u001b[0m\u001b[0mA\u001b[0m\u001b[0;34m)\u001b[0m \u001b[0;34m,\u001b[0m \u001b[0;36m2\u001b[0m\u001b[0;34m)\u001b[0m\u001b[0;34m:\u001b[0m\u001b[0;34m\u001b[0m\u001b[0;34m\u001b[0m\u001b[0m\n\u001b[0;32m----> 6\u001b[0;31m         \u001b[0;32mif\u001b[0m \u001b[0mA\u001b[0m\u001b[0;34m[\u001b[0m\u001b[0mi\u001b[0m\u001b[0;34m]\u001b[0m \u001b[0;34m!=\u001b[0m \u001b[0mA\u001b[0m\u001b[0;34m[\u001b[0m\u001b[0mi\u001b[0m\u001b[0;34m+\u001b[0m\u001b[0;36m1\u001b[0m\u001b[0;34m]\u001b[0m\u001b[0;34m:\u001b[0m\u001b[0;34m\u001b[0m\u001b[0;34m\u001b[0m\u001b[0m\n\u001b[0m\u001b[1;32m      7\u001b[0m              \u001b[0;32mreturn\u001b[0m \u001b[0mA\u001b[0m\u001b[0;34m[\u001b[0m\u001b[0mi\u001b[0m\u001b[0;34m]\u001b[0m\u001b[0;34m\u001b[0m\u001b[0;34m\u001b[0m\u001b[0m\n\u001b[1;32m      8\u001b[0m         \u001b[0;32mif\u001b[0m \u001b[0mi\u001b[0m\u001b[0;34m+\u001b[0m\u001b[0;36m1\u001b[0m \u001b[0;34m==\u001b[0m \u001b[0mlen\u001b[0m\u001b[0;34m(\u001b[0m\u001b[0mA\u001b[0m\u001b[0;34m)\u001b[0m\u001b[0;34m:\u001b[0m\u001b[0;34m\u001b[0m\u001b[0;34m\u001b[0m\u001b[0m\n",
      "\u001b[0;31mIndexError\u001b[0m: list index out of range"
     ]
    }
   ],
   "source": [
    "solution([1, 1, 2, 2, 3])"
   ]
  },
  {
   "cell_type": "markdown",
   "id": "053fce6d",
   "metadata": {},
   "source": [
    "<h3>Misc - code tests</h3>"
   ]
  },
  {
   "cell_type": "code",
   "execution_count": 18,
   "id": "f39ea5eb",
   "metadata": {},
   "outputs": [
    {
     "name": "stdout",
     "output_type": "stream",
     "text": [
      "Python\n",
      "Jave\n",
      "C\n"
     ]
    }
   ],
   "source": [
    "# break / continue\n",
    "languages = ['Python', 'Jave', 'C', 'C++', 'Swift']\n",
    "for lan in languages:\n",
    "    if lan in ['C++', 'Swift']:\n",
    "        continue\n",
    "    print(lan)"
   ]
  },
  {
   "cell_type": "code",
   "execution_count": 293,
   "id": "6141af4b",
   "metadata": {},
   "outputs": [
    {
     "name": "stdout",
     "output_type": "stream",
     "text": [
      "[[1, 2], [3, 4], [5, 6], [7, 8], [9]]\n"
     ]
    }
   ],
   "source": [
    "# to split in 2s\n",
    "l = [1, 2, 3, 4, 5, 6, 7, 8, 9] \n",
    "   \n",
    "# How many elements each \n",
    "# list should have \n",
    "n = 2\n",
    "   \n",
    "# using list comprehension \n",
    "x = [l[i:i + n] for i in range(0, len(l), n)] \n",
    "print(x)"
   ]
  },
  {
   "cell_type": "code",
   "execution_count": 17,
   "id": "10f9170e",
   "metadata": {},
   "outputs": [
    {
     "name": "stdout",
     "output_type": "stream",
     "text": [
      "[1, 2]\n",
      "None\n"
     ]
    }
   ],
   "source": [
    "# remember this example - after the .append, the original data becomes the appended list already \n",
    "# while the assigned one is none type\n",
    "x = []\n",
    "x.append(1)\n",
    "y = x.append(2)\n",
    "\n",
    "print(x)\n",
    "print(y)"
   ]
  }
 ],
 "metadata": {
  "kernelspec": {
   "display_name": "Python 3",
   "language": "python",
   "name": "python3"
  },
  "language_info": {
   "codemirror_mode": {
    "name": "ipython",
    "version": 3
   },
   "file_extension": ".py",
   "mimetype": "text/x-python",
   "name": "python",
   "nbconvert_exporter": "python",
   "pygments_lexer": "ipython3",
   "version": "3.8.8"
  }
 },
 "nbformat": 4,
 "nbformat_minor": 5
}
