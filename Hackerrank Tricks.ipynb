{
 "cells": [
  {
   "cell_type": "code",
   "execution_count": null,
   "id": "80b6e9a5",
   "metadata": {},
   "outputs": [],
   "source": [
    "# if __name__ == '__main__': \n",
    "# It's boilerplate code that protects users from accidentally invoking the script when they didn't intend to.\n",
    "\n",
    "# Suppose this is foo.py.\n",
    "\n",
    "print(\"before import\")\n",
    "import math\n",
    "\n",
    "print(\"before functionA\")\n",
    "def functionA():\n",
    "    print(\"Function A\")\n",
    "\n",
    "print(\"before functionB\")\n",
    "def functionB():\n",
    "    print(\"Function B {}\".format(math.sqrt(100)))\n",
    "\n",
    "print(\"before __name__ guard\")\n",
    "if __name__ == '__main__':\n",
    "    functionA()\n",
    "    functionB()\n",
    "print(\"after __name__ guard\")"
   ]
  },
  {
   "cell_type": "code",
   "execution_count": null,
   "id": "b5020924",
   "metadata": {},
   "outputs": [],
   "source": [
    "# What gets printed if foo is the main program\n",
    "before import\n",
    "before functionA\n",
    "before functionB\n",
    "before __name__ guard\n",
    "Function A\n",
    "Function B 10.0\n",
    "after __name__ guard\n",
    "\n",
    "# What gets printed if foo is imported as a regular module\n",
    "before import\n",
    "before functionA\n",
    "before functionB\n",
    "before __name__ guard\n",
    "after __name__ guard"
   ]
  },
  {
   "cell_type": "code",
   "execution_count": null,
   "id": "08daffb7",
   "metadata": {},
   "outputs": [],
   "source": [
    "# to not print line breaks\n",
    "if __name__ == '__main__':\n",
    "    n = int(input())\n",
    "    for i in range(1, n+1):\n",
    "        print(i, end='')"
   ]
  },
  {
   "cell_type": "code",
   "execution_count": null,
   "id": "fd71a0c8",
   "metadata": {},
   "outputs": [],
   "source": [
    "# leap year\n",
    "def is_leap(year):\n",
    "    if year % 400 == 0:\n",
    "        return True\n",
    "    elif year % 100 == 0:\n",
    "        return False\n",
    "    elif year % 4 == 0:\n",
    "        return True\n",
    "    else:\n",
    "        return False\n",
    "\n",
    "year = int(input())\n",
    "print(is_leap(year))"
   ]
  },
  {
   "cell_type": "code",
   "execution_count": null,
   "id": "31e7b89c",
   "metadata": {},
   "outputs": [],
   "source": [
    "# list comphrehension\n",
    "# solution 1\n",
    "# array - for x in range(n+1) \n",
    "if __name__ == '__main__':\n",
    "\n",
    "    xr = range(int(input())+1)\n",
    "    yr = range(int(input())+1)\n",
    "    zr = range(int(input())+1)\n",
    "    n = int(input())\n",
    "\n",
    "    arr = [[x, y, z] for x in xr for y in yr for z in zr if x+y+z != n]\n",
    "print(arr)\n",
    "\n",
    "# solution 2\n",
    "# list & sum(list)\n",
    "if __name__ == '__main__':\n",
    "\n",
    "    x = int(input())\n",
    "    y = int(input())\n",
    "    z = int(input())\n",
    "    n = int(input())\n",
    "\n",
    "    print([[i,j,k] for i in range(x+1) for j in range(y+1) for k in range(z+1) if sum([i,j,k]) != n])\n"
   ]
  },
  {
   "cell_type": "code",
   "execution_count": null,
   "id": "7082b87c",
   "metadata": {},
   "outputs": [],
   "source": [
    "# get runner-ups\n",
    "# map & set & sorted\n",
    "if __name__ == '__main__':\n",
    "    # set is the key to remove dups.\n",
    "    # map means apply the fuction\n",
    "    # not need to use list() unless for check data\n",
    "    n = int(input())\n",
    "    arr = map(int, input().split())\n",
    "    print(sorted(set(arr))[-2])"
   ]
  },
  {
   "cell_type": "code",
   "execution_count": null,
   "id": "0c4956a6",
   "metadata": {},
   "outputs": [],
   "source": [
    "# get names of second lowest scores\n",
    "# dictionary & set & end = '\\n' \n",
    "if __name__ == '__main__':\n",
    "    l = []\n",
    "    second_lowest_names = []\n",
    "    scores = set()\n",
    "\n",
    "    for _ in range(int(input())):\n",
    "        name = input()\n",
    "        score = float(input())\n",
    "        l.append([name, score])\n",
    "        scores.add(score)\n",
    "\n",
    "    second_lowest = sorted(scores)[1]  \n",
    "    \n",
    "    for name, score in l:\n",
    "        if score == second_lowest:\n",
    "            second_lowest_names.append(name)\n",
    "    for name in sorted(second_lowest_names):\n",
    "        print(name, end='\\n')    \n"
   ]
  },
  {
   "cell_type": "code",
   "execution_count": null,
   "id": "78f8d88e",
   "metadata": {},
   "outputs": [],
   "source": [
    "# commands for lists\n",
    "# append(), pop(), sort(), insert(i, x), reverse, int(), split()\n",
    "if __name__ == '__main__':\n",
    "    n = int(input())\n",
    "    l = []\n",
    "    for _ in range(n):\n",
    "        arg = input().split()\n",
    "        if arg[0] == 'insert':\n",
    "            l.insert(int(arg[1]), int(arg[2]))\n",
    "        elif arg[0] == 'print':\n",
    "            print(l)\n",
    "        elif arg[0] == 'remove':\n",
    "            l.remove(int(arg[1]))\n",
    "        elif arg[0] == 'append':\n",
    "            l.append(int(arg[1]))\n",
    "        elif arg[0] == 'sort':\n",
    "            l.sort()\n",
    "        elif arg[0] == 'pop':\n",
    "            l.pop()\n",
    "        elif arg[0] == 'reverse':\n",
    "            l.reverse()"
   ]
  },
  {
   "cell_type": "code",
   "execution_count": null,
   "id": "a462b9d9",
   "metadata": {},
   "outputs": [],
   "source": [
    "# tuple & hash & map to convert to integers\n",
    "if __name__ == '__main__':\n",
    "    n = int(input())\n",
    "    # to make the strings into integers\n",
    "    integer_list = map(int, input().split())\n",
    "    print(hash(tuple(integer_list)))"
   ]
  },
  {
   "cell_type": "code",
   "execution_count": null,
   "id": "a522d0ab",
   "metadata": {},
   "outputs": [],
   "source": [
    "# Decimal & round & * & dictionary\n",
    "# When calling a function, the * operator can be used to unpack an iterable into the arguments in the function call\n",
    "# handling input is the hard part..\n",
    "if __name__ == '__main__':\n",
    "    from statistics import mean\n",
    "    from decimal import Decimal\n",
    "    n = int(input())\n",
    "    student_marks = {}\n",
    "    for _ in range(n):\n",
    "        name, *line = input().split()\n",
    "        scores = list(map(float, line))\n",
    "        student_marks[name] = scores\n",
    "    query_name = input()\n",
    "    print(round(Decimal(mean(student_marks[query_name])), 2))"
   ]
  }
 ],
 "metadata": {
  "kernelspec": {
   "display_name": "Python 3",
   "language": "python",
   "name": "python3"
  },
  "language_info": {
   "codemirror_mode": {
    "name": "ipython",
    "version": 3
   },
   "file_extension": ".py",
   "mimetype": "text/x-python",
   "name": "python",
   "nbconvert_exporter": "python",
   "pygments_lexer": "ipython3",
   "version": "3.8.8"
  }
 },
 "nbformat": 4,
 "nbformat_minor": 5
}
